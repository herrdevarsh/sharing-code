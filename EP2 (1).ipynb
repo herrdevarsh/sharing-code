{
 "cells": [
  {
   "cell_type": "code",
   "execution_count": 1,
   "metadata": {},
   "outputs": [],
   "source": [
    "import pandas as pd\n",
    "import numpy as np\n",
    "\n",
    "\n",
    "import matplotlib.pyplot as plt \n",
    "from sklearn.ensemble import RandomForestRegressor\n",
    "from sklearn.model_selection import train_test_split"
   ]
  },
  {
   "cell_type": "code",
   "execution_count": 2,
   "metadata": {},
   "outputs": [],
   "source": [
    "%reload_ext autoreload\n",
    "%autoreload 2\n",
    "%matplotlib inline"
   ]
  },
  {
   "cell_type": "code",
   "execution_count": 3,
   "metadata": {},
   "outputs": [],
   "source": [
    "\n",
    "import pandas as pd\n",
    "import numpy as np\n",
    "\n",
    "\n",
    "import matplotlib.pyplot as plt \n",
    "from sklearn.ensemble import RandomForestRegressor\n",
    "from sklearn.model_selection import train_test_split"
   ]
  },
  {
   "cell_type": "code",
   "execution_count": 4,
   "metadata": {},
   "outputs": [],
   "source": [
    "data= pd.read_csv('testdataEP1.csv')"
   ]
  },
  {
   "cell_type": "code",
   "execution_count": 5,
   "metadata": {},
   "outputs": [
    {
     "name": "stdout",
     "output_type": "stream",
     "text": [
      "<class 'pandas.core.frame.DataFrame'>\n",
      "RangeIndex: 144 entries, 0 to 143\n",
      "Data columns (total 27 columns):\n",
      " #   Column               Non-Null Count  Dtype  \n",
      "---  ------               --------------  -----  \n",
      " 0   State/Crop/District  144 non-null    object \n",
      " 1   Year                 144 non-null    int64  \n",
      " 2   Season               144 non-null    object \n",
      " 3   Area (Hectare)       144 non-null    int64  \n",
      " 4   Production (Tonnes)  144 non-null    int64  \n",
      " 5   Yield                144 non-null    float64\n",
      " 6   AS%                  144 non-null    float64\n",
      " 7   SrAc%                144 non-null    float64\n",
      " 8   HAc%                 144 non-null    float64\n",
      " 9   MAc%                 144 non-null    float64\n",
      " 10  SlAc%                144 non-null    float64\n",
      " 11  N%                   144 non-null    float64\n",
      " 12  MAl%                 144 non-null    float64\n",
      " 13  SlAl%                144 non-null    float64\n",
      " 14  N                    144 non-null    object \n",
      " 15  OC                   144 non-null    object \n",
      " 16  P                    144 non-null    object \n",
      " 17  K                    144 non-null    object \n",
      " 18  Zn %                 144 non-null    object \n",
      " 19  Fe %                 144 non-null    object \n",
      " 20  Cu %                 144 non-null    object \n",
      " 21  Mn %                 144 non-null    object \n",
      " 22  B %                  144 non-null    object \n",
      " 23  S %                  144 non-null    object \n",
      " 24  Rainfall             99 non-null     float64\n",
      " 25  Temp_Max             144 non-null    float64\n",
      " 26  Temp_Min             144 non-null    float64\n",
      "dtypes: float64(12), int64(3), object(12)\n",
      "memory usage: 30.5+ KB\n"
     ]
    }
   ],
   "source": [
    "data.info()"
   ]
  },
  {
   "cell_type": "code",
   "execution_count": 6,
   "metadata": {},
   "outputs": [
    {
     "name": "stdout",
     "output_type": "stream",
     "text": [
      "State/Crop/District 27\n",
      "Year 5\n",
      "Season 2\n",
      "Area (Hectare) 130\n",
      "Production (Tonnes) 121\n",
      "Yield  115\n",
      "AS% 20\n",
      "SrAc% 17\n",
      "HAc% 31\n",
      "MAc% 50\n",
      "SlAc% 50\n",
      "N% 43\n",
      "MAl% 52\n",
      "SlAl% 44\n",
      "N 50\n",
      "OC 51\n",
      "P 51\n",
      "K 50\n",
      "Zn % 51\n",
      "Fe % 52\n",
      "Cu % 45\n",
      "Mn % 51\n",
      "B % 52\n",
      "S % 52\n",
      "Rainfall 99\n",
      "Temp_Max 101\n",
      "Temp_Min 117\n"
     ]
    }
   ],
   "source": [
    "\n",
    "for col in data:\n",
    "    print(data[col].name,data[col].nunique())"
   ]
  },
  {
   "cell_type": "code",
   "execution_count": 7,
   "metadata": {},
   "outputs": [
    {
     "data": {
      "text/html": [
       "<div>\n",
       "<style scoped>\n",
       "    .dataframe tbody tr th:only-of-type {\n",
       "        vertical-align: middle;\n",
       "    }\n",
       "\n",
       "    .dataframe tbody tr th {\n",
       "        vertical-align: top;\n",
       "    }\n",
       "\n",
       "    .dataframe thead th {\n",
       "        text-align: right;\n",
       "    }\n",
       "</style>\n",
       "<table border=\"1\" class=\"dataframe\">\n",
       "  <thead>\n",
       "    <tr style=\"text-align: right;\">\n",
       "      <th></th>\n",
       "      <th>Year</th>\n",
       "      <th>Area (Hectare)</th>\n",
       "      <th>Production (Tonnes)</th>\n",
       "      <th>Yield</th>\n",
       "      <th>AS%</th>\n",
       "      <th>SrAc%</th>\n",
       "      <th>HAc%</th>\n",
       "      <th>MAc%</th>\n",
       "      <th>SlAc%</th>\n",
       "      <th>N%</th>\n",
       "      <th>MAl%</th>\n",
       "      <th>SlAl%</th>\n",
       "      <th>Rainfall</th>\n",
       "      <th>Temp_Max</th>\n",
       "      <th>Temp_Min</th>\n",
       "    </tr>\n",
       "  </thead>\n",
       "  <tbody>\n",
       "    <tr>\n",
       "      <th>count</th>\n",
       "      <td>144.000000</td>\n",
       "      <td>144.000000</td>\n",
       "      <td>144.000000</td>\n",
       "      <td>144.000000</td>\n",
       "      <td>144.000000</td>\n",
       "      <td>144.000000</td>\n",
       "      <td>144.000000</td>\n",
       "      <td>144.000000</td>\n",
       "      <td>144.000000</td>\n",
       "      <td>144.000000</td>\n",
       "      <td>144.000000</td>\n",
       "      <td>144.000000</td>\n",
       "      <td>99.000000</td>\n",
       "      <td>144.000000</td>\n",
       "      <td>144.000000</td>\n",
       "    </tr>\n",
       "    <tr>\n",
       "      <th>mean</th>\n",
       "      <td>201669.618056</td>\n",
       "      <td>41347.909722</td>\n",
       "      <td>84587.631944</td>\n",
       "      <td>1.880903</td>\n",
       "      <td>0.098264</td>\n",
       "      <td>0.316806</td>\n",
       "      <td>4.229931</td>\n",
       "      <td>18.078958</td>\n",
       "      <td>12.724722</td>\n",
       "      <td>1.198333</td>\n",
       "      <td>62.036875</td>\n",
       "      <td>1.315972</td>\n",
       "      <td>1195.273352</td>\n",
       "      <td>35.827083</td>\n",
       "      <td>19.175694</td>\n",
       "    </tr>\n",
       "    <tr>\n",
       "      <th>std</th>\n",
       "      <td>111.371739</td>\n",
       "      <td>51624.351502</td>\n",
       "      <td>109711.565026</td>\n",
       "      <td>0.999900</td>\n",
       "      <td>0.104636</td>\n",
       "      <td>0.688873</td>\n",
       "      <td>9.196289</td>\n",
       "      <td>20.325601</td>\n",
       "      <td>12.067021</td>\n",
       "      <td>1.558870</td>\n",
       "      <td>31.781055</td>\n",
       "      <td>1.945797</td>\n",
       "      <td>555.946734</td>\n",
       "      <td>4.870165</td>\n",
       "      <td>1.816379</td>\n",
       "    </tr>\n",
       "    <tr>\n",
       "      <th>min</th>\n",
       "      <td>201516.000000</td>\n",
       "      <td>10.000000</td>\n",
       "      <td>0.000000</td>\n",
       "      <td>0.000000</td>\n",
       "      <td>0.000000</td>\n",
       "      <td>0.000000</td>\n",
       "      <td>0.000000</td>\n",
       "      <td>0.000000</td>\n",
       "      <td>0.000000</td>\n",
       "      <td>0.000000</td>\n",
       "      <td>1.880000</td>\n",
       "      <td>0.030000</td>\n",
       "      <td>454.790000</td>\n",
       "      <td>29.230000</td>\n",
       "      <td>12.860000</td>\n",
       "    </tr>\n",
       "    <tr>\n",
       "      <th>25%</th>\n",
       "      <td>201617.000000</td>\n",
       "      <td>1515.000000</td>\n",
       "      <td>1297.500000</td>\n",
       "      <td>1.200000</td>\n",
       "      <td>0.030000</td>\n",
       "      <td>0.010000</td>\n",
       "      <td>0.030000</td>\n",
       "      <td>1.390000</td>\n",
       "      <td>3.150000</td>\n",
       "      <td>0.320000</td>\n",
       "      <td>37.040000</td>\n",
       "      <td>0.060000</td>\n",
       "      <td>767.658750</td>\n",
       "      <td>31.887500</td>\n",
       "      <td>18.347500</td>\n",
       "    </tr>\n",
       "    <tr>\n",
       "      <th>50%</th>\n",
       "      <td>201667.500000</td>\n",
       "      <td>10590.000000</td>\n",
       "      <td>17250.000000</td>\n",
       "      <td>2.005000</td>\n",
       "      <td>0.060000</td>\n",
       "      <td>0.020000</td>\n",
       "      <td>0.430000</td>\n",
       "      <td>7.690000</td>\n",
       "      <td>6.790000</td>\n",
       "      <td>0.810000</td>\n",
       "      <td>71.260000</td>\n",
       "      <td>0.460000</td>\n",
       "      <td>1071.880000</td>\n",
       "      <td>34.690000</td>\n",
       "      <td>19.430000</td>\n",
       "    </tr>\n",
       "    <tr>\n",
       "      <th>75%</th>\n",
       "      <td>201743.250000</td>\n",
       "      <td>72886.500000</td>\n",
       "      <td>146750.000000</td>\n",
       "      <td>2.570000</td>\n",
       "      <td>0.110000</td>\n",
       "      <td>0.160000</td>\n",
       "      <td>1.790000</td>\n",
       "      <td>29.170000</td>\n",
       "      <td>19.910000</td>\n",
       "      <td>1.300000</td>\n",
       "      <td>91.910000</td>\n",
       "      <td>1.440000</td>\n",
       "      <td>1435.462000</td>\n",
       "      <td>40.115000</td>\n",
       "      <td>20.307500</td>\n",
       "    </tr>\n",
       "    <tr>\n",
       "      <th>max</th>\n",
       "      <td>201819.000000</td>\n",
       "      <td>180200.000000</td>\n",
       "      <td>423300.000000</td>\n",
       "      <td>4.500000</td>\n",
       "      <td>0.450000</td>\n",
       "      <td>3.540000</td>\n",
       "      <td>40.120000</td>\n",
       "      <td>69.970000</td>\n",
       "      <td>44.990000</td>\n",
       "      <td>7.490000</td>\n",
       "      <td>99.680000</td>\n",
       "      <td>8.630000</td>\n",
       "      <td>2693.125000</td>\n",
       "      <td>45.140000</td>\n",
       "      <td>22.530000</td>\n",
       "    </tr>\n",
       "  </tbody>\n",
       "</table>\n",
       "</div>"
      ],
      "text/plain": [
       "                Year  Area (Hectare)  Production (Tonnes)      Yield   \\\n",
       "count     144.000000      144.000000           144.000000  144.000000   \n",
       "mean   201669.618056    41347.909722         84587.631944    1.880903   \n",
       "std       111.371739    51624.351502        109711.565026    0.999900   \n",
       "min    201516.000000       10.000000             0.000000    0.000000   \n",
       "25%    201617.000000     1515.000000          1297.500000    1.200000   \n",
       "50%    201667.500000    10590.000000         17250.000000    2.005000   \n",
       "75%    201743.250000    72886.500000        146750.000000    2.570000   \n",
       "max    201819.000000   180200.000000        423300.000000    4.500000   \n",
       "\n",
       "              AS%       SrAc%        HAc%        MAc%       SlAc%          N%  \\\n",
       "count  144.000000  144.000000  144.000000  144.000000  144.000000  144.000000   \n",
       "mean     0.098264    0.316806    4.229931   18.078958   12.724722    1.198333   \n",
       "std      0.104636    0.688873    9.196289   20.325601   12.067021    1.558870   \n",
       "min      0.000000    0.000000    0.000000    0.000000    0.000000    0.000000   \n",
       "25%      0.030000    0.010000    0.030000    1.390000    3.150000    0.320000   \n",
       "50%      0.060000    0.020000    0.430000    7.690000    6.790000    0.810000   \n",
       "75%      0.110000    0.160000    1.790000   29.170000   19.910000    1.300000   \n",
       "max      0.450000    3.540000   40.120000   69.970000   44.990000    7.490000   \n",
       "\n",
       "             MAl%       SlAl%     Rainfall    Temp_Max    Temp_Min  \n",
       "count  144.000000  144.000000    99.000000  144.000000  144.000000  \n",
       "mean    62.036875    1.315972  1195.273352   35.827083   19.175694  \n",
       "std     31.781055    1.945797   555.946734    4.870165    1.816379  \n",
       "min      1.880000    0.030000   454.790000   29.230000   12.860000  \n",
       "25%     37.040000    0.060000   767.658750   31.887500   18.347500  \n",
       "50%     71.260000    0.460000  1071.880000   34.690000   19.430000  \n",
       "75%     91.910000    1.440000  1435.462000   40.115000   20.307500  \n",
       "max     99.680000    8.630000  2693.125000   45.140000   22.530000  "
      ]
     },
     "execution_count": 7,
     "metadata": {},
     "output_type": "execute_result"
    }
   ],
   "source": [
    "data.describe()\n"
   ]
  },
  {
   "cell_type": "code",
   "execution_count": null,
   "metadata": {},
   "outputs": [],
   "source": []
  },
  {
   "cell_type": "code",
   "execution_count": 8,
   "metadata": {},
   "outputs": [],
   "source": [
    "# Labels are the values we want to predict\n",
    "labels = np.array(data['Yield '])"
   ]
  },
  {
   "cell_type": "code",
   "execution_count": 9,
   "metadata": {},
   "outputs": [],
   "source": [
    "#set target \n",
    "data1= data.drop('Yield ',axis =1)"
   ]
  },
  {
   "cell_type": "code",
   "execution_count": 10,
   "metadata": {},
   "outputs": [
    {
     "name": "stdout",
     "output_type": "stream",
     "text": [
      "[1.23 1.75 2.3  0.41 0.21 0.67 0.34 0.41 0.48 0.   0.7  0.46 0.31 1.49\n",
      " 2.06 2.06 2.26 1.22 2.29 2.13 2.86 0.4  0.82 1.74 1.72 1.72 0.72 2.01\n",
      " 1.76 1.6  1.17 1.64 2.01 1.35 0.84 2.   1.85 2.04 1.22 1.94 1.8  1.85\n",
      " 1.53 2.53 2.44 2.41 1.58 2.44 2.5  2.97 2.45 3.67 3.48 4.5  3.05 3.91\n",
      " 3.08 3.41 0.08 0.27 0.29 0.21 1.21 1.94 2.   1.89 2.67 2.07 2.92 0.25\n",
      " 0.5  2.4  1.43 1.85 0.88 2.74 0.92 1.16 1.13 0.86 1.45 2.03 2.12 1.71\n",
      " 0.1  0.19 0.29 2.3  2.86 2.91 2.42 1.85 2.52 1.76 2.64 0.2  0.2  1.97\n",
      " 2.16 2.38 1.83 2.93 3.14 2.72 3.05 2.71 3.16 2.83 3.18 2.45 3.14 2.5\n",
      " 2.98 3.45 3.17 3.   1.92 2.55 2.31 2.63 1.51 1.75 1.81 2.32 2.94 2.35\n",
      " 3.29 2.13 3.25 2.11 2.94 3.01 0.   0.22 0.12 0.09 2.26 2.5  2.72 1.\n",
      " 1.85 2.08 2.54 2.89]\n"
     ]
    }
   ],
   "source": [
    "print(labels)"
   ]
  },
  {
   "cell_type": "code",
   "execution_count": 11,
   "metadata": {},
   "outputs": [
    {
     "data": {
      "text/plain": [
       "<matplotlib.image.AxesImage at 0x1d99e690220>"
      ]
     },
     "execution_count": 11,
     "metadata": {},
     "output_type": "execute_result"
    },
    {
     "data": {
      "image/png": "[encoded data removed]",
      "text/plain": [
       "<Figure size 288x288 with 1 Axes>"
      ]
     },
     "metadata": {
      "needs_background": "light"
     },
     "output_type": "display_data"
    }
   ],
   "source": [
    "plt.matshow(data.corr())"
   ]
  },
  {
   "cell_type": "code",
   "execution_count": 12,
   "metadata": {},
   "outputs": [
    {
     "data": {
      "text/plain": [
       "<AxesSubplot:>"
      ]
     },
     "execution_count": 12,
     "metadata": {},
     "output_type": "execute_result"
    },
    {
     "data": {
      "image/png": "[encoded data removed]",
      "text/plain": [
       "<Figure size 432x288 with 2 Axes>"
      ]
     },
     "metadata": {
      "needs_background": "light"
     },
     "output_type": "display_data"
    }
   ],
   "source": [
    "\n",
    "import seaborn as sns\n",
    "corr = data.corr()\n",
    "sns.heatmap(corr, \n",
    "            xticklabels=corr.columns.values,\n",
    "            yticklabels=corr.columns.values)"
   ]
  },
  {
   "cell_type": "code",
   "execution_count": 13,
   "metadata": {},
   "outputs": [],
   "source": [
    "# Identify categorical columns with low cardinality (a small number of distinct values)\n",
    "def low_cardinality_cols(data_frame):\n",
    "    low_cardinality_cols = [cname for cname in data_frame.columns if \n",
    "                                data_frame[cname].nunique() < 70 and\n",
    "                                data_frame[cname].dtype == \"object\"]\n",
    "    return(low_cardinality_cols)\n",
    "  \n",
    "cat_data_features =low_cardinality_cols(data)"
   ]
  },
  {
   "cell_type": "code",
   "execution_count": 14,
   "metadata": {},
   "outputs": [],
   "source": [
    "# Identify numeric columns\n",
    "def numeric_cols(data_frame):\n",
    "    numeric_cols = [cname for cname in data_frame.columns if \n",
    "                                data_frame[cname].dtype in ['int64', 'float64']]\n",
    "    return(numeric_cols)\n",
    "  \n",
    "  \n",
    "num_data_features = numeric_cols(data)"
   ]
  },
  {
   "cell_type": "code",
   "execution_count": 15,
   "metadata": {},
   "outputs": [
    {
     "data": {
      "text/plain": [
       "array([[2.01516e+05, 1.40000e+04, 1.72000e+04, ..., 0.00000e+00,\n",
       "        0.00000e+00, 0.00000e+00],\n",
       "       [2.01617e+05, 1.50000e+04, 2.62000e+04, ..., 0.00000e+00,\n",
       "        0.00000e+00, 0.00000e+00],\n",
       "       [2.01718e+05, 1.62000e+04, 3.73000e+04, ..., 0.00000e+00,\n",
       "        0.00000e+00, 0.00000e+00],\n",
       "       ...,\n",
       "       [2.01718e+05, 4.80000e+01, 1.00000e+02, ..., 0.00000e+00,\n",
       "        1.00000e+00, 0.00000e+00],\n",
       "       [2.01819e+05, 5.48850e+04, 1.39368e+05, ..., 0.00000e+00,\n",
       "        1.00000e+00, 0.00000e+00],\n",
       "       [2.01819e+05, 3.80000e+01, 1.10000e+02, ..., 0.00000e+00,\n",
       "        1.00000e+00, 0.00000e+00]])"
      ]
     },
     "execution_count": 15,
     "metadata": {},
     "output_type": "execute_result"
    }
   ],
   "source": [
    "data_one_hot = pd.get_dummies(data[cat_data_features + num_data_features])\n",
    "#data_one_hot.replace(-np.inf,np.nan)\n",
    "data_one_hot = data_one_hot.drop('Yield ',axis = 1)\n",
    "np.nan_to_num(data_one_hot)"
   ]
  },
  {
   "cell_type": "code",
   "execution_count": 16,
   "metadata": {},
   "outputs": [
    {
     "data": {
      "text/plain": [
       "<AxesSubplot:>"
      ]
     },
     "execution_count": 16,
     "metadata": {},
     "output_type": "execute_result"
    },
    {
     "data": {
      "image/png": "[encoded data removed]",
      "text/plain": [
       "<Figure size 432x288 with 2 Axes>"
      ]
     },
     "metadata": {
      "needs_background": "light"
     },
     "output_type": "display_data"
    }
   ],
   "source": [
    "import seaborn as sns\n",
    "corr = data_one_hot.corr()\n",
    "sns.heatmap(corr,\n",
    "           xticklabels = corr.columns.values,\n",
    "           yticklabels = corr.columns.values)"
   ]
  },
  {
   "cell_type": "code",
   "execution_count": 17,
   "metadata": {},
   "outputs": [
    {
     "data": {
      "text/plain": [
       "Index(['Year', 'Area (Hectare)', 'Production (Tonnes)', 'AS%', 'SrAc%', 'HAc%',\n",
       "       'MAc%', 'SlAc%', 'N%', 'MAl%',\n",
       "       ...\n",
       "       'S %_60.64%', 'S %_60.92%', 'S %_61.83%', 'S %_64.32%', 'S %_69.80%',\n",
       "       'S %_70.21%', 'S %_72.09%', 'S %_84.61%', 'S %_85.23%', 'S %_9.62%'],\n",
       "      dtype='object', length=548)"
      ]
     },
     "execution_count": 17,
     "metadata": {},
     "output_type": "execute_result"
    }
   ],
   "source": [
    "\n",
    "data_one_hot.columns"
   ]
  },
  {
   "cell_type": "code",
   "execution_count": 466,
   "metadata": {},
   "outputs": [],
   "source": [
    "data1_Train , data1_Test , labels_Train , labels_Test = train_test_split(data_one_hot , labels ,test_size =0.3)"
   ]
  },
  {
   "cell_type": "code",
   "execution_count": 467,
   "metadata": {},
   "outputs": [
    {
     "data": {
      "text/plain": [
       "array([[2.01516e+05, 1.89000e+04, 1.73000e+04, ..., 0.00000e+00,\n",
       "        0.00000e+00, 0.00000e+00],\n",
       "       [2.01819e+05, 7.61060e+04, 2.40930e+05, ..., 1.00000e+00,\n",
       "        0.00000e+00, 0.00000e+00],\n",
       "       [2.01516e+05, 6.20000e+03, 6.00000e+02, ..., 0.00000e+00,\n",
       "        0.00000e+00, 0.00000e+00],\n",
       "       ...,\n",
       "       [2.01718e+05, 1.38500e+05, 2.18500e+05, ..., 0.00000e+00,\n",
       "        0.00000e+00, 0.00000e+00],\n",
       "       [2.01718e+05, 4.80000e+01, 1.00000e+02, ..., 0.00000e+00,\n",
       "        1.00000e+00, 0.00000e+00],\n",
       "       [2.01516e+05, 4.00000e+02, 1.00000e+02, ..., 0.00000e+00,\n",
       "        0.00000e+00, 0.00000e+00]])"
      ]
     },
     "execution_count": 467,
     "metadata": {},
     "output_type": "execute_result"
    }
   ],
   "source": [
    "np.nan_to_num(data1_Train)"
   ]
  },
  {
   "cell_type": "code",
   "execution_count": 468,
   "metadata": {},
   "outputs": [],
   "source": [
    "np.where(np.isnan(X_Train))\n",
    "data1_Train=np.nan_to_num(data1_Train)\n",
    "data1_Test = np.nan_to_num(data1_Test)"
   ]
  },
  {
   "cell_type": "code",
   "execution_count": 469,
   "metadata": {},
   "outputs": [],
   "source": [
    "labels_Train = np.nan_to_num(labels_Train)\n",
    "labels_Test = np.nan_to_num(labels_Test)"
   ]
  },
  {
   "cell_type": "code",
   "execution_count": 470,
   "metadata": {},
   "outputs": [],
   "source": [
    "#Random Forest regressor\n",
    "model = RandomForestRegressor(max_depth =17, n_estimators =600 ,min_samples_split =4)"
   ]
  },
  {
   "cell_type": "code",
   "execution_count": 471,
   "metadata": {},
   "outputs": [
    {
     "data": {
      "text/plain": [
       "(array([], dtype=int64), array([], dtype=int64))"
      ]
     },
     "execution_count": 471,
     "metadata": {},
     "output_type": "execute_result"
    }
   ],
   "source": [
    "np.where(np.isnan(data1_Train))"
   ]
  },
  {
   "cell_type": "code",
   "execution_count": 472,
   "metadata": {},
   "outputs": [
    {
     "data": {
      "text/plain": [
       "RandomForestRegressor(max_depth=17, min_samples_split=4, n_estimators=600)"
      ]
     },
     "execution_count": 472,
     "metadata": {},
     "output_type": "execute_result"
    }
   ],
   "source": [
    "model.fit(data1_Train,labels_Train)"
   ]
  },
  {
   "cell_type": "code",
   "execution_count": 473,
   "metadata": {},
   "outputs": [
    {
     "name": "stdout",
     "output_type": "stream",
     "text": [
      "Train_accuracy:  0.941913166211348\n",
      "Test accuracy:  0.8237133195785433\n"
     ]
    }
   ],
   "source": [
    "from sklearn.metrics import mean_absolute_error\n",
    "Train_accuracy = model.score(data1_Train,labels_Train)\n",
    "Test_accuracy = model.score(data1_Test,labels_Test)\n",
    "print('Train_accuracy: ',Train_accuracy)\n",
    "print('Test accuracy: ',Test_accuracy)"
   ]
  },
  {
   "cell_type": "code",
   "execution_count": 474,
   "metadata": {},
   "outputs": [],
   "source": [
    "from sklearn.model_selection import cross_val_score\n",
    "from sklearn.metrics import classification_report, confusion_matrix\n",
    "y_predicted = model.predict(data1_Test)"
   ]
  },
  {
   "cell_type": "code",
   "execution_count": 475,
   "metadata": {},
   "outputs": [
    {
     "data": {
      "text/plain": [
       "0.8237133195785433"
      ]
     },
     "execution_count": 475,
     "metadata": {},
     "output_type": "execute_result"
    }
   ],
   "source": [
    "model.score(data1_Test, labels_Test)"
   ]
  },
  {
   "cell_type": "code",
   "execution_count": null,
   "metadata": {},
   "outputs": [],
   "source": []
  },
  {
   "cell_type": "code",
   "execution_count": null,
   "metadata": {},
   "outputs": [],
   "source": []
  }
 ],
 "metadata": {
  "kernelspec": {
   "display_name": "Python 3",
   "language": "python",
   "name": "python3"
  },
  "language_info": {
   "codemirror_mode": {
    "name": "ipython",
    "version": 3
   },
   "file_extension": ".py",
   "mimetype": "text/x-python",
   "name": "python",
   "nbconvert_exporter": "python",
   "pygments_lexer": "ipython3",
   "version": "3.8.5"
  }
 },
 "nbformat": 4,
 "nbformat_minor": 4
}
